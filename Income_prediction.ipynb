{
 "cells": [
  {
   "cell_type": "markdown",
   "id": "3c029bbb-4ab0-401c-9c1f-938faa54f239",
   "metadata": {},
   "source": [
    "<h1><center>INCOME PREDICTION</center></h1>        "
   ]
  },
  {
   "cell_type": "code",
   "execution_count": null,
   "id": "f8612cdb-a02a-4247-8a7a-2dd564f51bf9",
   "metadata": {},
   "outputs": [],
   "source": [
    "import pandas as pd\n",
    "import matplotlib.pyplot as plt\n",
    "import numpy as np\n",
    "import seaborn as sns"
   ]
  },
  {
   "cell_type": "code",
   "execution_count": null,
   "id": "39992d13-a339-440b-9875-c40abfee24b8",
   "metadata": {},
   "outputs": [],
   "source": [
    "data = pd.read_csv(\"incomeData.csv\")"
   ]
  },
  {
   "cell_type": "code",
   "execution_count": null,
   "id": "3a4d3d09-0774-4058-a7b5-24872014f941",
   "metadata": {},
   "outputs": [],
   "source": [
    "data.head(3)"
   ]
  },
  {
   "cell_type": "code",
   "execution_count": null,
   "id": "6b7cf4c8-e33b-492f-85b4-f8b367da568e",
   "metadata": {},
   "outputs": [],
   "source": [
    "data.shape"
   ]
  },
  {
   "cell_type": "code",
   "execution_count": null,
   "id": "bc1f96e2-876b-442b-97c0-9c065643e02b",
   "metadata": {},
   "outputs": [],
   "source": [
    "data.info()"
   ]
  },
  {
   "cell_type": "code",
   "execution_count": null,
   "id": "8adb4795-94f1-453d-ab5e-6bc87060a92a",
   "metadata": {},
   "outputs": [],
   "source": [
    "data.isnull().sum()"
   ]
  },
  {
   "cell_type": "code",
   "execution_count": null,
   "id": "ac193af7-0cd9-49cf-a827-a7513b2cdc64",
   "metadata": {},
   "outputs": [],
   "source": [
    "data.duplicated().sum()"
   ]
  },
  {
   "cell_type": "code",
   "execution_count": null,
   "id": "aed3ae12-2561-44f6-a2b2-4c0cdab4dc3a",
   "metadata": {},
   "outputs": [],
   "source": [
    "data.drop_duplicates(inplace=True)"
   ]
  },
  {
   "cell_type": "code",
   "execution_count": null,
   "id": "586a4052-a28b-4de3-941e-bf0e3e7574b0",
   "metadata": {},
   "outputs": [],
   "source": [
    "data.duplicated().sum()"
   ]
  },
  {
   "cell_type": "code",
   "execution_count": null,
   "id": "2a69a92f-1634-48f0-ae15-4d2dc42f23e1",
   "metadata": {},
   "outputs": [],
   "source": [
    "data.dtypes"
   ]
  },
  {
   "cell_type": "code",
   "execution_count": null,
   "id": "a13b6afd-c76d-43f8-aa5f-5bc49a5c14c2",
   "metadata": {},
   "outputs": [],
   "source": [
    "data.rename(columns={'nan':'age'},inplace=True)"
   ]
  },
  {
   "cell_type": "code",
   "execution_count": null,
   "id": "33693fd5-579d-49dd-a055-19ce46dfe92c",
   "metadata": {},
   "outputs": [],
   "source": [
    "data.columns"
   ]
  },
  {
   "cell_type": "code",
   "execution_count": null,
   "id": "597f4364-8bd5-4a8c-aacb-942bb5d31cc9",
   "metadata": {},
   "outputs": [],
   "source": [
    "data.describe()"
   ]
  },
  {
   "cell_type": "code",
   "execution_count": null,
   "id": "ec247be2-55ad-448f-90ac-4053dee58abe",
   "metadata": {},
   "outputs": [],
   "source": [
    "data['native-country'].unique()"
   ]
  },
  {
   "cell_type": "code",
   "execution_count": null,
   "id": "ad140a59-9a31-4042-80cc-8ec76ffad9e9",
   "metadata": {},
   "outputs": [],
   "source": [
    "corr_inc = data[['age','fnlwgt','education-num','capital-gain','capital-loss','hours-per-week']].corr()"
   ]
  },
  {
   "cell_type": "code",
   "execution_count": null,
   "id": "0cd946a5-000c-4384-b513-1f930d7f7f61",
   "metadata": {},
   "outputs": [],
   "source": [
    "plt.figure(figsize=(12,8))\n",
    "sns.heatmap(corr_inc,cbar=True,annot=True,cmap='Blues') #coolwarm,reds,Blues,greens,viridis\n",
    "plt.title('Correlation Metrix of Numerical Values')\n",
    "plt.show()"
   ]
  },
  {
   "cell_type": "markdown",
   "id": "7daf2ae1-0bec-49cc-9792-d7cf72b67ccf",
   "metadata": {},
   "source": [
    "#### There is no much correlation between any of the numerical features"
   ]
  },
  {
   "cell_type": "markdown",
   "id": "9ce24315-c915-47ae-864e-6f1eb89fca5e",
   "metadata": {},
   "source": [
    "## Check for error values"
   ]
  },
  {
   "cell_type": "code",
   "execution_count": null,
   "id": "22e183b6-f9e6-4d83-b7ac-1b326cf6c743",
   "metadata": {},
   "outputs": [],
   "source": [
    "data['age'].unique()"
   ]
  },
  {
   "cell_type": "code",
   "execution_count": null,
   "id": "eda7e2af-9215-4123-a363-9797229b7631",
   "metadata": {},
   "outputs": [],
   "source": [
    "data['workclass'].unique()"
   ]
  },
  {
   "cell_type": "code",
   "execution_count": null,
   "id": "6f1d2c97-d319-4950-b564-985da41d4279",
   "metadata": {},
   "outputs": [],
   "source": [
    "data['fnlwgt'].unique()"
   ]
  },
  {
   "cell_type": "code",
   "execution_count": null,
   "id": "db9842f8-8a38-4963-b12e-2d29958f36f3",
   "metadata": {},
   "outputs": [],
   "source": [
    "data['education'].unique()"
   ]
  },
  {
   "cell_type": "code",
   "execution_count": null,
   "id": "57a9689b-c4dc-474f-8d09-2e9ba42a975a",
   "metadata": {},
   "outputs": [],
   "source": [
    "data['education-num'].unique()"
   ]
  },
  {
   "cell_type": "code",
   "execution_count": null,
   "id": "efab98d3-b36a-4cc2-a209-3c0a83766450",
   "metadata": {},
   "outputs": [],
   "source": [
    "data['marital-status'].unique()"
   ]
  },
  {
   "cell_type": "code",
   "execution_count": null,
   "id": "fb5761bd-c0a1-4a03-b3f4-1fe02a807658",
   "metadata": {},
   "outputs": [],
   "source": [
    "data['occupation'].unique()"
   ]
  },
  {
   "cell_type": "code",
   "execution_count": null,
   "id": "bd296a94-9899-46f0-ae11-47ef145661e1",
   "metadata": {},
   "outputs": [],
   "source": [
    "data['relationship'].unique()"
   ]
  },
  {
   "cell_type": "code",
   "execution_count": null,
   "id": "5e2f151d-abef-47f5-a9dc-98579d786726",
   "metadata": {},
   "outputs": [],
   "source": [
    "data['race'].unique()"
   ]
  },
  {
   "cell_type": "code",
   "execution_count": null,
   "id": "c017bf43-53ed-45c4-b461-cf85f4d06254",
   "metadata": {},
   "outputs": [],
   "source": [
    "data['sex'].unique()"
   ]
  },
  {
   "cell_type": "code",
   "execution_count": null,
   "id": "a912fdbf-c471-4f80-84d8-20e015ac9eaa",
   "metadata": {},
   "outputs": [],
   "source": [
    "data['capital-gain'].unique()"
   ]
  },
  {
   "cell_type": "code",
   "execution_count": null,
   "id": "fc21d215-963d-4bb5-ae36-383355605b05",
   "metadata": {},
   "outputs": [],
   "source": [
    "data['capital-loss'].unique()"
   ]
  },
  {
   "cell_type": "code",
   "execution_count": null,
   "id": "b6eee313-1d80-4d04-a6fc-fc083bd4982e",
   "metadata": {},
   "outputs": [],
   "source": [
    "data['hours-per-week'].unique()"
   ]
  },
  {
   "cell_type": "code",
   "execution_count": null,
   "id": "ed4ecefb-67fc-4c87-af9b-fabbcb2a63a5",
   "metadata": {},
   "outputs": [],
   "source": [
    "data['native-country'].unique()"
   ]
  },
  {
   "cell_type": "code",
   "execution_count": null,
   "id": "db7d6049-783a-4e07-b5cd-49b711cf1b6f",
   "metadata": {},
   "outputs": [],
   "source": [
    "data['Income'].unique()"
   ]
  },
  {
   "cell_type": "markdown",
   "id": "1d88e816-2050-447f-9969-6071432bd7e1",
   "metadata": {},
   "source": [
    "There are missing values in three columns ['workclass'], ['occupation'] and ['native-country']"
   ]
  },
  {
   "cell_type": "markdown",
   "id": "3eed7b4b-f0b5-485c-bad2-f647f5adcccf",
   "metadata": {},
   "source": [
    "## Treating the error values"
   ]
  },
  {
   "cell_type": "code",
   "execution_count": null,
   "id": "1cb96cd6-207d-4e16-8e51-64095d45e106",
   "metadata": {},
   "outputs": [],
   "source": [
    "data['workclass'].replace(' ?',np.nan,inplace=True);"
   ]
  },
  {
   "cell_type": "code",
   "execution_count": null,
   "id": "810df898-3d2a-4060-b461-753777263fa4",
   "metadata": {},
   "outputs": [],
   "source": [
    "data['workclass'].unique()"
   ]
  },
  {
   "cell_type": "code",
   "execution_count": null,
   "id": "3a1e52a8-163a-4b2b-a7e4-83ea9c68402f",
   "metadata": {},
   "outputs": [],
   "source": [
    "data['workclass'].isnull().sum()"
   ]
  },
  {
   "cell_type": "code",
   "execution_count": null,
   "id": "1e23c5f9-3968-4e51-8486-d67757614633",
   "metadata": {},
   "outputs": [],
   "source": [
    "data['workclass'].fillna(data['workclass'].mode()[0],inplace=True)"
   ]
  },
  {
   "cell_type": "code",
   "execution_count": null,
   "id": "c7c9fe3c-1554-4121-8756-5e57c10043e5",
   "metadata": {},
   "outputs": [],
   "source": [
    "data['workclass'].isnull().sum()"
   ]
  },
  {
   "cell_type": "code",
   "execution_count": null,
   "id": "5c9f7c57-e433-4f4f-91e7-4eb751e48290",
   "metadata": {},
   "outputs": [],
   "source": [
    "data['occupation'].replace(' ?',np.nan,inplace=True);"
   ]
  },
  {
   "cell_type": "code",
   "execution_count": null,
   "id": "6d153ea5-8004-425d-ad07-0260b4c7356b",
   "metadata": {},
   "outputs": [],
   "source": [
    "data['occupation'].unique()"
   ]
  },
  {
   "cell_type": "code",
   "execution_count": null,
   "id": "9c9047eb-4cda-4127-82bc-8e65029e02ee",
   "metadata": {},
   "outputs": [],
   "source": [
    "data['occupation'].isnull().sum()"
   ]
  },
  {
   "cell_type": "code",
   "execution_count": null,
   "id": "3bc78393-d18f-4384-989b-9b9c369a3841",
   "metadata": {},
   "outputs": [],
   "source": [
    "data['occupation'].fillna(data['workclass'].mode()[0],inplace=True)"
   ]
  },
  {
   "cell_type": "code",
   "execution_count": null,
   "id": "cf41fdf3-712c-4251-b4e8-c84d0eaf7cd6",
   "metadata": {},
   "outputs": [],
   "source": [
    "data['occupation'].isnull().sum()"
   ]
  },
  {
   "cell_type": "code",
   "execution_count": null,
   "id": "982a4d7d-49fc-41ab-a1ea-8ece167b6b26",
   "metadata": {},
   "outputs": [],
   "source": [
    "data['native-country'].replace(' ?',np.nan,inplace=True);"
   ]
  },
  {
   "cell_type": "code",
   "execution_count": null,
   "id": "634b2ef2-bbc7-4442-8a9e-040356dba3f6",
   "metadata": {},
   "outputs": [],
   "source": [
    "data['native-country'].isnull().sum()"
   ]
  },
  {
   "cell_type": "code",
   "execution_count": null,
   "id": "47563c40-db4c-4320-abab-a348101452c0",
   "metadata": {},
   "outputs": [],
   "source": [
    "data['native-country'].fillna(data['workclass'].mode()[0],inplace=True)"
   ]
  },
  {
   "cell_type": "code",
   "execution_count": null,
   "id": "b42e1d4c-dc42-40b1-a711-0e84ec2fffec",
   "metadata": {},
   "outputs": [],
   "source": [
    "data['native-country'].isnull().sum()"
   ]
  },
  {
   "cell_type": "markdown",
   "id": "2a7b0841-53b5-4f59-8365-6413dd07e4b0",
   "metadata": {},
   "source": [
    "## Univariate Analysis"
   ]
  },
  {
   "cell_type": "markdown",
   "id": "1993517a-e865-4b3e-b7e0-c45b2b0a8019",
   "metadata": {},
   "source": [
    "### Income Distribution"
   ]
  },
  {
   "cell_type": "code",
   "execution_count": null,
   "id": "142c8fa1-f6c7-4e8d-81dc-41fb32504387",
   "metadata": {},
   "outputs": [],
   "source": [
    "# income class distribution\n",
    "plt.figure(figsize=(6,4))\n",
    "sns.countplot(data=data,x='Income',palette='BuGn_r')\n",
    "plt.title(\"Income class distribution\")\n",
    "plt.xlabel(\"Income\")\n",
    "plt.ylabel(\"Count\")\n",
    "plt.show()"
   ]
  },
  {
   "cell_type": "markdown",
   "id": "c83fd0c3-1a2a-4e34-8227-195bd5ce1f6d",
   "metadata": {},
   "source": [
    "* The dataset is imbalanced, with a significantly higher number of individuals earning <=50K."
   ]
  },
  {
   "cell_type": "markdown",
   "id": "c7e7ed61-b88a-4d4c-bd2c-f12a10adad4d",
   "metadata": {},
   "source": [
    "### Impact of Education "
   ]
  },
  {
   "cell_type": "code",
   "execution_count": null,
   "id": "81160650-4f68-4475-9f88-7acd6b80cbc8",
   "metadata": {},
   "outputs": [],
   "source": [
    "# impact of education on employment\n",
    "sns.histplot(data['education'],palette='Set2')\n",
    "plt.xticks(rotation=90)\n",
    "plt.title(\"Impact of Education on Employment\")\n",
    "plt.show()"
   ]
  },
  {
   "cell_type": "markdown",
   "id": "f50361ab-25b4-4a90-b1df-19c0344b2014",
   "metadata": {},
   "source": [
    "* There is a great variation in number of employees based on their education.\n",
    "* More than 10000 employees are HS-Graduates."
   ]
  },
  {
   "cell_type": "markdown",
   "id": "5d9ab950-f6cc-4b74-8cd1-74812fdb1e55",
   "metadata": {},
   "source": [
    "### Number of employees in each sector"
   ]
  },
  {
   "cell_type": "code",
   "execution_count": null,
   "id": "40a5c3f9-b09a-4176-affb-887ae30d9ea9",
   "metadata": {},
   "outputs": [],
   "source": [
    "#Analysing employment opertunities in each sector\n",
    "sns.countplot(x=data['workclass'])\n",
    "plt.xticks(rotation=45)\n",
    "plt.title(\"Number of employees in each workclass\")\n",
    "plt.show()"
   ]
  },
  {
   "cell_type": "markdown",
   "id": "d54ac73e-0a53-47e0-872f-89ede095ef4f",
   "metadata": {},
   "source": [
    "* Private sectors are providing more employment opertunities."
   ]
  },
  {
   "cell_type": "code",
   "execution_count": null,
   "id": "fac2cea8-b9a2-43c6-b705-ca5cd51e2cbb",
   "metadata": {},
   "outputs": [],
   "source": [
    "#Getting information about peoples having high income\n",
    "income_high=data[data['Income']==\" >50K\"]"
   ]
  },
  {
   "cell_type": "code",
   "execution_count": null,
   "id": "56b92956-b206-4ad4-9d7a-e0ed79201c93",
   "metadata": {},
   "outputs": [],
   "source": [
    "income_high"
   ]
  },
  {
   "cell_type": "markdown",
   "id": "9817b531-7a08-4096-94b6-b092e3ff5969",
   "metadata": {},
   "source": [
    "### Work class distribution on high income"
   ]
  },
  {
   "cell_type": "code",
   "execution_count": null,
   "id": "30ab4add-18d2-4ff8-862e-06fb79e58f3c",
   "metadata": {},
   "outputs": [],
   "source": [
    "#Analysing work class of high income individuals\n",
    "highworkclass=income_high['workclass'].value_counts()\n",
    "plt.pie(highworkclass,labels=highworkclass.index, autopct='%1.1f%%', startangle=90,colors=sns.color_palette('pastel'))\n",
    "plt.title(\"Workclass Distribution Among >50K Earners\")\n",
    "plt.tight_layout()\n",
    "plt.show()"
   ]
  },
  {
   "cell_type": "markdown",
   "id": "b1cb68a3-77bf-4b0f-81b9-f87da193cf5a",
   "metadata": {},
   "source": [
    "* Most high-income individuals belong to Private, Self-employed, or Government sectors.\n",
    "* Private sector is likely dominant, reflecting broader employment trends.\n",
    "* Workclass type clearly influences income potential, possibly tied to benefits, job roles, or access to higher salaries.\n",
    "\n"
   ]
  },
  {
   "cell_type": "code",
   "execution_count": null,
   "id": "59cca082-2d25-4cd8-8ce2-0d367233d3bf",
   "metadata": {},
   "outputs": [],
   "source": [
    "#filtering low income individuals\n",
    "low_income=data[data['Income'] == ' <=50K']\n",
    "low_income"
   ]
  },
  {
   "cell_type": "markdown",
   "id": "db4c3d10-62dc-4637-97f0-c13a2cc68ac3",
   "metadata": {},
   "source": [
    "### Work class distribution on low income"
   ]
  },
  {
   "cell_type": "code",
   "execution_count": null,
   "id": "7de08203-25ce-42ec-9b20-1eae368038a8",
   "metadata": {},
   "outputs": [],
   "source": [
    "#Analysing work class of low income individuals\n",
    "lowworkclass=low_income['workclass'].value_counts()\n",
    "plt.pie(lowworkclass,labels=lowworkclass.index, autopct='%1.1f%%', startangle=90,colors=sns.color_palette('pastel'))\n",
    "plt.title(\"Workclass Distribution Among <=50K Earners\")\n",
    "plt.tight_layout()\n",
    "plt.show()"
   ]
  },
  {
   "cell_type": "markdown",
   "id": "ae478f86-57e0-42c3-91cd-9ddbc7eb4776",
   "metadata": {},
   "source": [
    "* Most low-income individuals belong to Private, Self-employed, or Government sectors.\n",
    "* Private sector is likely dominant, reflecting broader employment trends."
   ]
  },
  {
   "cell_type": "code",
   "execution_count": null,
   "id": "91aa823d-e7db-407b-bd22-71ca4e184b16",
   "metadata": {},
   "outputs": [],
   "source": [
    "data['occupation'].unique()"
   ]
  },
  {
   "cell_type": "markdown",
   "id": "2c75c5e6-3c40-40b8-b148-021da758ac11",
   "metadata": {},
   "source": [
    "### Occupation of high income individuals"
   ]
  },
  {
   "cell_type": "code",
   "execution_count": null,
   "id": "af3f2f0a-ba66-475e-a36a-b55360e63663",
   "metadata": {},
   "outputs": [],
   "source": [
    "\n",
    "sns.countplot(x=income_high['occupation'],palette='pastel')\n",
    "plt.xticks(rotation=90)\n",
    "plt.title(\"Occupation of high income individuals\") \n",
    "plt.show()"
   ]
  },
  {
   "cell_type": "markdown",
   "id": "11a31095-96c7-4ca8-bd1c-16a50d691b7d",
   "metadata": {},
   "source": [
    "* Most high-income individuals are working as Executive-manager, prof-specialty,craft repair or sales\n",
    "* Executive-manager is likely dominant.\n",
    "* Ocuupation of employees influences the income of individuals"
   ]
  },
  {
   "cell_type": "markdown",
   "id": "0175139c-d246-4269-8cff-9cedc295756f",
   "metadata": {},
   "source": [
    "### Age Distribution Across Income Groups"
   ]
  },
  {
   "cell_type": "code",
   "execution_count": null,
   "id": "0e543de7-62df-420f-bb2c-d7f37a55115a",
   "metadata": {},
   "outputs": [],
   "source": [
    "plt.figure(figsize=(8, 5))\n",
    "sns.histplot(data=data, x='age', hue='Income', kde=True, bins=30, palette='Set2', multiple='stack')\n",
    "plt.title('Age Distribution by Income Group')\n",
    "plt.xlabel('Age')\n",
    "plt.ylabel('Count')\n",
    "plt.tight_layout()\n",
    "plt.show()"
   ]
  },
  {
   "cell_type": "markdown",
   "id": "4e27c32c-e1fe-41ca-8048-bbb97473937c",
   "metadata": {},
   "source": [
    "* Higher income ( >50K ) is more common among people aged 35–55.\n",
    "* People earning ≤50K are spread more broadly across ages, including younger demographics.\n",
    "* This suggests age is a significant predictor of income level — potentially nonlinear in influence."
   ]
  },
  {
   "cell_type": "markdown",
   "id": "9487b1cf-b387-437b-99be-d932fd150c42",
   "metadata": {},
   "source": [
    "#### Education Level Distribution by Income"
   ]
  },
  {
   "cell_type": "code",
   "execution_count": null,
   "id": "d5663442-8d57-4833-898c-1acb44c24860",
   "metadata": {},
   "outputs": [],
   "source": [
    "plt.figure(figsize=(10, 5))\n",
    "sns.countplot(data=data, x='education', hue='Income', order=data['education'].value_counts().index, palette='Set2')\n",
    "plt.title('Education Level vs Income Group')\n",
    "plt.xlabel('Education Level')\n",
    "plt.ylabel('Count')\n",
    "plt.xticks(rotation=45)\n",
    "plt.tight_layout()\n",
    "plt.show()"
   ]
  },
  {
   "cell_type": "markdown",
   "id": "d13c59cd-c189-4106-93a0-34fa5e86f31b",
   "metadata": {},
   "source": [
    "* Individuals with Bachelors, Masters, and Doctorate degrees have a higher proportion of >50K income.\n",
    "* Lower education levels (like HS-grad, Some-college, or 11th) are mostly associated with ≤50K income.\n",
    "* Education is a strong determinant of income, and can be a powerful feature for predictive modeling."
   ]
  },
  {
   "cell_type": "markdown",
   "id": "c107ff11-18b8-47d4-af07-6dfd65474599",
   "metadata": {},
   "source": [
    "#### Occupation vs Income"
   ]
  },
  {
   "cell_type": "code",
   "execution_count": null,
   "id": "762baa73-b7b0-44d8-9da9-26a9136dc33f",
   "metadata": {},
   "outputs": [],
   "source": [
    "plt.figure(figsize=(12, 5))\n",
    "sns.countplot(data=data, x='occupation', hue='Income', order=data['occupation'].value_counts().index, palette='Set2')\n",
    "plt.title('Occupation vs Income Group')\n",
    "plt.xlabel('Occupation')\n",
    "plt.ylabel('Count')\n",
    "plt.xticks(rotation=45)\n",
    "plt.tight_layout()\n",
    "plt.show()"
   ]
  },
  {
   "cell_type": "markdown",
   "id": "bc3a0eef-8db5-4dd5-842f-676f1e44e874",
   "metadata": {},
   "source": [
    "* Occupations such as Exec-managerial, Prof-specialty, and craft-repair and sales have higher proportions of >50K earners.\n",
    "* Roles like Handlers-cleaners, Machine-op-inspct, and Other-service are dominated by ≤50K earners.\n",
    "* This confirms that occupation is highly correlated with income class and is a strong predictive feature."
   ]
  },
  {
   "cell_type": "markdown",
   "id": "0db09838-5b9f-4ef2-83a0-8b1567cec425",
   "metadata": {},
   "source": [
    "#### Boxplot of Hours Worked per Week by Income Group"
   ]
  },
  {
   "cell_type": "code",
   "execution_count": null,
   "id": "2e65fe2e-d561-45c0-b53d-944b17f4a06d",
   "metadata": {},
   "outputs": [],
   "source": [
    "plt.figure(figsize=(8, 5))\n",
    "sns.boxplot(data=data, x='Income', y='hours-per-week', palette='Set2')\n",
    "plt.title('Hours Worked per Week by Income Group')\n",
    "plt.xlabel('Income Group')\n",
    "plt.ylabel('Hours per Week')\n",
    "plt.tight_layout()\n",
    "plt.show()"
   ]
  },
  {
   "cell_type": "markdown",
   "id": "5f834615-5fe1-4656-aca7-6dd9a9ff96f9",
   "metadata": {},
   "source": [
    "* Median hours worked for both income groups is around 40 hours.\n",
    "* High-income earners have a wider range and more outliers (some working 60–80+ hours).\n",
    "* Low-income group shows a tighter, more consistent spread.\n",
    "* This suggests more hours doesn't guarantee higher income, but many high earners do work longer hours."
   ]
  },
  {
   "cell_type": "markdown",
   "id": "9fb5dbed-20a8-4921-82bf-137ff2fce779",
   "metadata": {},
   "source": [
    "## Conclusion"
   ]
  },
  {
   "cell_type": "markdown",
   "id": "f983d5b8-4446-41b0-8fb5-1e694e780e3a",
   "metadata": {},
   "source": [
    "* Higher number of individuals are earning <=50k salary.\n",
    "* Private sectors are providing more employment opertunities for individuals.They provide both high income and low income jobs.\n",
    "* Most high-income individuals are working as Executive-manager, prof-specialty,craft repair or sales.\n",
    "* Higher income ( >50K ) is more common among people aged 35–55.\n",
    "* Individuals with Bachelors, Masters, and Doctorate degrees have a higher proportion of >50K income.\n",
    "* Lower education levels (like HS-grad, Some-college, or 11th) are mostly associated with ≤50K income.\n",
    "* Education is a strong determinant of income, and can be a powerful feature for predictive modeling.\n",
    "* More hours doesn't guarantee higher income, but many high earners do work longer hours.\n"
   ]
  }
 ],
 "metadata": {
  "kernelspec": {
   "display_name": "Python 3 (ipykernel)",
   "language": "python",
   "name": "python3"
  },
  "language_info": {
   "codemirror_mode": {
    "name": "ipython",
    "version": 3
   },
   "file_extension": ".py",
   "mimetype": "text/x-python",
   "name": "python",
   "nbconvert_exporter": "python",
   "pygments_lexer": "ipython3",
   "version": "3.12.7"
  }
 },
 "nbformat": 4,
 "nbformat_minor": 5
}
